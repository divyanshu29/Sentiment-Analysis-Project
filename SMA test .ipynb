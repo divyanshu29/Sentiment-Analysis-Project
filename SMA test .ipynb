{
 "cells": [
  {
   "cell_type": "code",
   "execution_count": 1,
   "source": [
    "#Importing the Liberaries\r\n",
    "import re\r\n",
    "import nltk\r\n",
    "nltk.download('punkt')\r\n",
    "from nltk.tokenize import word_tokenize\r\n",
    "from nltk.tokenize import sent_tokenize\r\n",
    "import pandas as pd\r\n",
    "\r\n",
    "#Import Visualization Liberary\r\n",
    "import matplotlib.pyplot as plt\r\n",
    "%matplotlib inline\r\n",
    "\r\n",
    "#Import TextBlob For Sentiment Analysis\r\n",
    "!pip install textblob\r\n",
    "from textblob import TextBlob\r\n",
    "\r\n",
    "#Import Stopwords For stopping words\r\n",
    "nltk.download('stopwords')\r\n",
    "from nltk.corpus import stopwords\r\n",
    "from nltk.tokenize import RegexpTokenizer"
   ],
   "outputs": [
    {
     "output_type": "stream",
     "name": "stderr",
     "text": [
      "[nltk_data] Downloading package punkt to\n",
      "[nltk_data]     C:\\Users\\divya\\AppData\\Roaming\\nltk_data...\n",
      "[nltk_data]   Package punkt is already up-to-date!\n"
     ]
    },
    {
     "output_type": "stream",
     "name": "stdout",
     "text": [
      "Requirement already satisfied: textblob in c:\\users\\divya\\appdata\\local\\programs\\python\\python39\\lib\\site-packages (0.15.3)\n",
      "Requirement already satisfied: nltk>=3.1 in c:\\users\\divya\\appdata\\local\\programs\\python\\python39\\lib\\site-packages (from textblob) (3.6.2)\n",
      "Requirement already satisfied: joblib in c:\\users\\divya\\appdata\\local\\programs\\python\\python39\\lib\\site-packages (from nltk>=3.1->textblob) (1.0.1)\n",
      "Requirement already satisfied: regex in c:\\users\\divya\\appdata\\local\\programs\\python\\python39\\lib\\site-packages (from nltk>=3.1->textblob) (2021.7.6)\n",
      "Requirement already satisfied: tqdm in c:\\users\\divya\\appdata\\local\\programs\\python\\python39\\lib\\site-packages (from nltk>=3.1->textblob) (4.61.2)\n",
      "Requirement already satisfied: click in c:\\users\\divya\\appdata\\local\\programs\\python\\python39\\lib\\site-packages (from nltk>=3.1->textblob) (7.1.2)\n",
      "Requirement already satisfied: colorama in c:\\users\\divya\\appdata\\roaming\\python\\python39\\site-packages (from tqdm->nltk>=3.1->textblob) (0.4.4)\n"
     ]
    },
    {
     "output_type": "stream",
     "name": "stderr",
     "text": [
      "WARNING: You are using pip version 21.0.1; however, version 21.2.2 is available.\n",
      "You should consider upgrading via the 'c:\\users\\divya\\appdata\\local\\programs\\python\\python39\\python.exe -m pip install --upgrade pip' command.\n",
      "[nltk_data] Downloading package stopwords to\n",
      "[nltk_data]     C:\\Users\\divya\\AppData\\Roaming\\nltk_data...\n",
      "[nltk_data]   Package stopwords is already up-to-date!\n"
     ]
    }
   ],
   "metadata": {}
  },
  {
   "cell_type": "code",
   "execution_count": 2,
   "source": [
    "#Import DataSet\r\n",
    "df = pd.read_csv('SMA Test.csv',encoding='latin1')"
   ],
   "outputs": [],
   "metadata": {}
  },
  {
   "cell_type": "code",
   "execution_count": 3,
   "source": [
    "#Now Check the Head Of the dataset\r\n",
    "df.head()"
   ],
   "outputs": [
    {
     "output_type": "execute_result",
     "data": {
      "text/html": [
       "<div>\n",
       "<style scoped>\n",
       "    .dataframe tbody tr th:only-of-type {\n",
       "        vertical-align: middle;\n",
       "    }\n",
       "\n",
       "    .dataframe tbody tr th {\n",
       "        vertical-align: top;\n",
       "    }\n",
       "\n",
       "    .dataframe thead th {\n",
       "        text-align: right;\n",
       "    }\n",
       "</style>\n",
       "<table border=\"1\" class=\"dataframe\">\n",
       "  <thead>\n",
       "    <tr style=\"text-align: right;\">\n",
       "      <th></th>\n",
       "      <th>ARTICLE_ID</th>\n",
       "      <th>HEADLINE</th>\n",
       "      <th>AUTHOR</th>\n",
       "      <th>CONTENT</th>\n",
       "      <th>ARTICLE_URL</th>\n",
       "      <th>REGION</th>\n",
       "      <th>LANGUAGE</th>\n",
       "      <th>PUBLISH_DATE</th>\n",
       "    </tr>\n",
       "  </thead>\n",
       "  <tbody>\n",
       "    <tr>\n",
       "      <th>0</th>\n",
       "      <td>8.970650e+11</td>\n",
       "      <td>9 Best SEO Trends You Must Know in 2019</td>\n",
       "      <td>NaN</td>\n",
       "      <td>improved search results to app and web develop...</td>\n",
       "      <td>http://www.articledirectoryusa.com/article/cat...</td>\n",
       "      <td>United States</td>\n",
       "      <td>English</td>\n",
       "      <td>28-02-2019 00:00</td>\n",
       "    </tr>\n",
       "    <tr>\n",
       "      <th>1</th>\n",
       "      <td>8.970250e+11</td>\n",
       "      <td>TWEET FROM: patrykwodzinski</td>\n",
       "      <td>PATRYKWODZINSKI</td>\n",
       "      <td>Jeszcze raz o sk?adanych telefonach, ale ju¬...</td>\n",
       "      <td>http://twitter.com/81326936/statuses/110341639...</td>\n",
       "      <td>United States</td>\n",
       "      <td>Polish</td>\n",
       "      <td>06-03-2019 00:00</td>\n",
       "    </tr>\n",
       "    <tr>\n",
       "      <th>2</th>\n",
       "      <td>8.970250e+11</td>\n",
       "      <td>TWEET FROM: SanzitChaudhary</td>\n",
       "      <td>SANZITCHAUDHARY</td>\n",
       "      <td>#foldablesmartphone https://t.co/5hp617wMPw</td>\n",
       "      <td>http://twitter.com/1084650020454961152/statuse...</td>\n",
       "      <td>Nepal</td>\n",
       "      <td>English</td>\n",
       "      <td>13-03-2019 00:00</td>\n",
       "    </tr>\n",
       "    <tr>\n",
       "      <th>3</th>\n",
       "      <td>8.969290e+11</td>\n",
       "      <td>Re: {Announced} [MIBA#54] Will Foldable Smartp...</td>\n",
       "      <td>?? ? ?  ? ?</td>\n",
       "      <td>yes definitely it's will...</td>\n",
       "      <td>http://en.miui.com/thread-5807949-1-27.html#co...</td>\n",
       "      <td>Singapore</td>\n",
       "      <td>English</td>\n",
       "      <td>27-02-2019 00:00</td>\n",
       "    </tr>\n",
       "    <tr>\n",
       "      <th>4</th>\n",
       "      <td>8.969290e+11</td>\n",
       "      <td>Re: {Announced} [MIBA#54] Will Foldable Smartp...</td>\n",
       "      <td>ZVGRCMAN</td>\n",
       "      <td>not until they make them very slim, no body li...</td>\n",
       "      <td>http://en.miui.com/thread-5807949-1-27.html#co...</td>\n",
       "      <td>Singapore</td>\n",
       "      <td>English</td>\n",
       "      <td>27-02-2019 00:00</td>\n",
       "    </tr>\n",
       "  </tbody>\n",
       "</table>\n",
       "</div>"
      ],
      "text/plain": [
       "     ARTICLE_ID                                           HEADLINE  \\\n",
       "0  8.970650e+11            9 Best SEO Trends You Must Know in 2019   \n",
       "1  8.970250e+11                        TWEET FROM: patrykwodzinski   \n",
       "2  8.970250e+11                        TWEET FROM: SanzitChaudhary   \n",
       "3  8.969290e+11  Re: {Announced} [MIBA#54] Will Foldable Smartp...   \n",
       "4  8.969290e+11  Re: {Announced} [MIBA#54] Will Foldable Smartp...   \n",
       "\n",
       "               AUTHOR                                            CONTENT  \\\n",
       "0                 NaN  improved search results to app and web develop...   \n",
       "1     PATRYKWODZINSKI  Jeszcze raz o sk?adanych telefonach, ale ju¬...   \n",
       "2     SANZITCHAUDHARY        #foldablesmartphone https://t.co/5hp617wMPw   \n",
       "3   ?? ? ?  ? ?                        yes definitely it's will...   \n",
       "4            ZVGRCMAN  not until they make them very slim, no body li...   \n",
       "\n",
       "                                         ARTICLE_URL         REGION LANGUAGE  \\\n",
       "0  http://www.articledirectoryusa.com/article/cat...  United States  English   \n",
       "1  http://twitter.com/81326936/statuses/110341639...  United States   Polish   \n",
       "2  http://twitter.com/1084650020454961152/statuse...          Nepal  English   \n",
       "3  http://en.miui.com/thread-5807949-1-27.html#co...      Singapore  English   \n",
       "4  http://en.miui.com/thread-5807949-1-27.html#co...      Singapore  English   \n",
       "\n",
       "       PUBLISH_DATE  \n",
       "0  28-02-2019 00:00  \n",
       "1  06-03-2019 00:00  \n",
       "2  13-03-2019 00:00  \n",
       "3  27-02-2019 00:00  \n",
       "4  27-02-2019 00:00  "
      ]
     },
     "metadata": {},
     "execution_count": 3
    }
   ],
   "metadata": {}
  },
  {
   "cell_type": "code",
   "execution_count": 4,
   "source": [
    "#Now count how many rows are present in each column of the dataset.\n",
    "df.count()"
   ],
   "outputs": [
    {
     "output_type": "execute_result",
     "data": {
      "text/plain": [
       "ARTICLE_ID      408086\n",
       "HEADLINE        394931\n",
       "AUTHOR          391361\n",
       "CONTENT         394393\n",
       "ARTICLE_URL     394933\n",
       "REGION          408086\n",
       "LANGUAGE        408086\n",
       "PUBLISH_DATE    408086\n",
       "dtype: int64"
      ]
     },
     "metadata": {},
     "execution_count": 4
    }
   ],
   "metadata": {}
  },
  {
   "cell_type": "code",
   "execution_count": 5,
   "source": [
    "#Now remove the unnecessary column from the dataset\n",
    "df = df.drop(['ARTICLE_ID','AUTHOR','ARTICLE_URL'],axis=1,inplace=False)"
   ],
   "outputs": [],
   "metadata": {}
  },
  {
   "cell_type": "code",
   "execution_count": 6,
   "source": [
    "#Now we have to check the head of new Dataset\n",
    "df.head()"
   ],
   "outputs": [
    {
     "output_type": "execute_result",
     "data": {
      "text/html": [
       "<div>\n",
       "<style scoped>\n",
       "    .dataframe tbody tr th:only-of-type {\n",
       "        vertical-align: middle;\n",
       "    }\n",
       "\n",
       "    .dataframe tbody tr th {\n",
       "        vertical-align: top;\n",
       "    }\n",
       "\n",
       "    .dataframe thead th {\n",
       "        text-align: right;\n",
       "    }\n",
       "</style>\n",
       "<table border=\"1\" class=\"dataframe\">\n",
       "  <thead>\n",
       "    <tr style=\"text-align: right;\">\n",
       "      <th></th>\n",
       "      <th>HEADLINE</th>\n",
       "      <th>CONTENT</th>\n",
       "      <th>REGION</th>\n",
       "      <th>LANGUAGE</th>\n",
       "      <th>PUBLISH_DATE</th>\n",
       "    </tr>\n",
       "  </thead>\n",
       "  <tbody>\n",
       "    <tr>\n",
       "      <th>0</th>\n",
       "      <td>9 Best SEO Trends You Must Know in 2019</td>\n",
       "      <td>improved search results to app and web develop...</td>\n",
       "      <td>United States</td>\n",
       "      <td>English</td>\n",
       "      <td>28-02-2019 00:00</td>\n",
       "    </tr>\n",
       "    <tr>\n",
       "      <th>1</th>\n",
       "      <td>TWEET FROM: patrykwodzinski</td>\n",
       "      <td>Jeszcze raz o sk?adanych telefonach, ale ju¬...</td>\n",
       "      <td>United States</td>\n",
       "      <td>Polish</td>\n",
       "      <td>06-03-2019 00:00</td>\n",
       "    </tr>\n",
       "    <tr>\n",
       "      <th>2</th>\n",
       "      <td>TWEET FROM: SanzitChaudhary</td>\n",
       "      <td>#foldablesmartphone https://t.co/5hp617wMPw</td>\n",
       "      <td>Nepal</td>\n",
       "      <td>English</td>\n",
       "      <td>13-03-2019 00:00</td>\n",
       "    </tr>\n",
       "    <tr>\n",
       "      <th>3</th>\n",
       "      <td>Re: {Announced} [MIBA#54] Will Foldable Smartp...</td>\n",
       "      <td>yes definitely it's will...</td>\n",
       "      <td>Singapore</td>\n",
       "      <td>English</td>\n",
       "      <td>27-02-2019 00:00</td>\n",
       "    </tr>\n",
       "    <tr>\n",
       "      <th>4</th>\n",
       "      <td>Re: {Announced} [MIBA#54] Will Foldable Smartp...</td>\n",
       "      <td>not until they make them very slim, no body li...</td>\n",
       "      <td>Singapore</td>\n",
       "      <td>English</td>\n",
       "      <td>27-02-2019 00:00</td>\n",
       "    </tr>\n",
       "  </tbody>\n",
       "</table>\n",
       "</div>"
      ],
      "text/plain": [
       "                                            HEADLINE  \\\n",
       "0            9 Best SEO Trends You Must Know in 2019   \n",
       "1                        TWEET FROM: patrykwodzinski   \n",
       "2                        TWEET FROM: SanzitChaudhary   \n",
       "3  Re: {Announced} [MIBA#54] Will Foldable Smartp...   \n",
       "4  Re: {Announced} [MIBA#54] Will Foldable Smartp...   \n",
       "\n",
       "                                             CONTENT         REGION LANGUAGE  \\\n",
       "0  improved search results to app and web develop...  United States  English   \n",
       "1  Jeszcze raz o sk?adanych telefonach, ale ju¬...  United States   Polish   \n",
       "2        #foldablesmartphone https://t.co/5hp617wMPw          Nepal  English   \n",
       "3                        yes definitely it's will...      Singapore  English   \n",
       "4  not until they make them very slim, no body li...      Singapore  English   \n",
       "\n",
       "       PUBLISH_DATE  \n",
       "0  28-02-2019 00:00  \n",
       "1  06-03-2019 00:00  \n",
       "2  13-03-2019 00:00  \n",
       "3  27-02-2019 00:00  \n",
       "4  27-02-2019 00:00  "
      ]
     },
     "metadata": {},
     "execution_count": 6
    }
   ],
   "metadata": {}
  },
  {
   "cell_type": "code",
   "execution_count": 7,
   "source": [
    "#Checking weather the dataset having null values or not\n",
    "df.info()"
   ],
   "outputs": [
    {
     "output_type": "stream",
     "name": "stdout",
     "text": [
      "<class 'pandas.core.frame.DataFrame'>\n",
      "RangeIndex: 408086 entries, 0 to 408085\n",
      "Data columns (total 5 columns):\n",
      " #   Column        Non-Null Count   Dtype \n",
      "---  ------        --------------   ----- \n",
      " 0   HEADLINE      394931 non-null  object\n",
      " 1   CONTENT       394393 non-null  object\n",
      " 2   REGION        408086 non-null  object\n",
      " 3   LANGUAGE      408086 non-null  object\n",
      " 4   PUBLISH_DATE  408086 non-null  object\n",
      "dtypes: object(5)\n",
      "memory usage: 15.6+ MB\n"
     ]
    }
   ],
   "metadata": {}
  },
  {
   "cell_type": "markdown",
   "source": [
    "# Now its time to define functions for preprocessing of data"
   ],
   "metadata": {}
  },
  {
   "cell_type": "code",
   "execution_count": 7,
   "source": [
    "#Remove hashtags\r\n",
    "def hashtags(text):\r\n",
    "  hash = re.findall(r\"#(\\w+)\", text)\r\n",
    "  return hash"
   ],
   "outputs": [],
   "metadata": {}
  },
  {
   "cell_type": "code",
   "execution_count": 8,
   "source": [
    "#remove special character\r\n",
    "def remove_special_characters(text):\r\n",
    "    pattern = r'[^a-zA-z0-9.,!?/;\\\"\\'\\s]' \r\n",
    "    return re.sub(pattern, '', text)"
   ],
   "outputs": [],
   "metadata": {}
  },
  {
   "cell_type": "code",
   "execution_count": 9,
   "source": [
    "#now remove the digits from the headline\r\n",
    "def remove_digits(text):\r\n",
    "    pattern = r'[^a-zA-z.,!?/:;\\\"\\'\\s]' \r\n",
    "    return re.sub(pattern, '', text)"
   ],
   "outputs": [],
   "metadata": {}
  },
  {
   "cell_type": "code",
   "execution_count": 10,
   "source": [
    "#now convert all the headlines to lower case alphabets and remove non ascii values(other languages rather than english)\r\n",
    "def non_ascii(s):\r\n",
    "  return \"\".join(i for i in s if ord(i)<128)\r\n",
    "\r\n",
    "def lower(text):\r\n",
    "  return text.lower()\r\n"
   ],
   "outputs": [],
   "metadata": {}
  },
  {
   "cell_type": "code",
   "execution_count": 11,
   "source": [
    "#now its time to remove emails\n",
    "def remove_email(text):\n",
    "    email_info = re.compile(r'[\\w._0-9]+@[\\w._0-9]+')\n",
    "    return re.sub(r'','',text)"
   ],
   "outputs": [],
   "metadata": {}
  },
  {
   "cell_type": "code",
   "execution_count": 12,
   "source": [
    "#now remove the stopwords from the column\n",
    "def removestopwords(str):\n",
    "    stopword = set(stopwords.words(\"english\"))\n",
    "    #now we have to add some custom words that we don not want at the time of analysis\n",
    "    stopword.update(('and','I','A','http','And','So','arnt','This','When','It','many','Many','so','cant','Yes','yes','No','no','These','these','mailto','regards','ayanna','like','email'))\n",
    "    new_str = ' '.join([word for word in str.split() if word not in stopword])\n",
    "    return new_str"
   ],
   "outputs": [],
   "metadata": {}
  },
  {
   "cell_type": "code",
   "execution_count": 13,
   "source": [
    "#now remove the HTML tags using regex substitute \n",
    "def clean_html(text):\n",
    "  html = re.compile('<.*?>')\n",
    "  return html.sub(r'',text)"
   ],
   "outputs": [],
   "metadata": {}
  },
  {
   "cell_type": "code",
   "execution_count": 14,
   "source": [
    "#Now remove punctuations\n",
    "def punct(text):\n",
    "  token=RegexpTokenizer(r'\\w+')#regex\n",
    "  text = token.tokenize(text)\n",
    "  text= \" \".join(text)\n",
    "  return text"
   ],
   "outputs": [],
   "metadata": {}
  },
  {
   "cell_type": "code",
   "execution_count": 15,
   "source": [
    "def apwords(words):\n",
    "    filtered_sentence = []\n",
    "    words = sent_tokenize(words)\n",
    "    for w in words:\n",
    "        filtered_sentence.append(w)\n",
    "    return filtered_sentence\n",
    "addwords = lambda x: apwords(x)"
   ],
   "outputs": [],
   "metadata": {}
  },
  {
   "cell_type": "code",
   "execution_count": 16,
   "source": [
    "#Data cleaning process on Headline column\n",
    "df['Hashtags'] = df['HEADLINE'].fillna(\"\").apply(func = hashtags)\n",
    "df['NEW_HEADLINE'] = df['HEADLINE'].fillna(\"\").apply(func = remove_special_characters)\n",
    "df['NEW_HEADLINE'] = df['NEW_HEADLINE'].fillna(\"\").apply(func = remove_digits)\n",
    "df['NEW_HEADLINE'] = df['NEW_HEADLINE'].fillna(\"\").apply(func = non_ascii)\n",
    "df['NEW_HEADLINE'] = df['NEW_HEADLINE'].fillna(\"\").apply(func= lower)\n",
    "df['NEW_HEADLINE'] = df['NEW_HEADLINE'].fillna(\"\").apply(func = remove_email)\n",
    "df['NEW_HEADLINE'] = df['NEW_HEADLINE'].fillna(\"\").apply(func = removestopwords)\n",
    "df['NEW_HEADLINE'] = df['NEW_HEADLINE'].fillna(\"\").apply(func = clean_html)\n",
    "df['NEW_HEADLINE'] = df['NEW_HEADLINE'].fillna(\"\").apply(func = punct)\n",
    "df['words_headline'] = df['NEW_HEADLINE'].apply(addwords)\n"
   ],
   "outputs": [],
   "metadata": {}
  },
  {
   "cell_type": "code",
   "execution_count": 18,
   "source": [
    "#Data cleaning process on Content column\n",
    "df['content_hashtags'] = df['CONTENT'].fillna(\"\").apply(func = hashtags)\n",
    "df['NEW_CONTENT'] = df['CONTENT'].fillna(\"\").apply(func = remove_special_characters)\n",
    "df['NEW_CONTENT'] = df['NEW_CONTENT'].fillna(\"\").apply(func = remove_digits)\n",
    "df['NEW_CONTENT'] = df['NEW_CONTENT'].fillna(\"\").apply(func = non_ascii)\n",
    "df['NEW_CONTENT'] = df['NEW_CONTENT'].fillna(\"\").apply(func= lower)\n",
    "df['NEW_CONTENT'] = df['NEW_CONTENT'].fillna(\"\").apply(func = remove_email)\n",
    "df['NEW_CONTENT'] = df['NEW_CONTENT'].fillna(\"\").apply(func = removestopwords)\n",
    "df['NEW_CONTENT'] = df['NEW_CONTENT'].fillna(\"\").apply(func = clean_html)\n",
    "df['NEW_CONTENT'] = df['NEW_CONTENT'].fillna(\"\").apply(func = punct)\n",
    "df['words_content'] = df['NEW_CONTENT'].apply(addwords)"
   ],
   "outputs": [],
   "metadata": {}
  },
  {
   "cell_type": "code",
   "execution_count": 19,
   "source": [
    "# df.rename(columns={'special_character':'NEW_HEADLINE'}, inplace=True)\n",
    "# df = df.drop(['words'],axis=1,inplace=False)\n",
    "df.head()\n",
    "\n"
   ],
   "outputs": [
    {
     "output_type": "execute_result",
     "data": {
      "text/html": [
       "<div>\n",
       "<style scoped>\n",
       "    .dataframe tbody tr th:only-of-type {\n",
       "        vertical-align: middle;\n",
       "    }\n",
       "\n",
       "    .dataframe tbody tr th {\n",
       "        vertical-align: top;\n",
       "    }\n",
       "\n",
       "    .dataframe thead th {\n",
       "        text-align: right;\n",
       "    }\n",
       "</style>\n",
       "<table border=\"1\" class=\"dataframe\">\n",
       "  <thead>\n",
       "    <tr style=\"text-align: right;\">\n",
       "      <th></th>\n",
       "      <th>HEADLINE</th>\n",
       "      <th>CONTENT</th>\n",
       "      <th>REGION</th>\n",
       "      <th>LANGUAGE</th>\n",
       "      <th>PUBLISH_DATE</th>\n",
       "      <th>Hashtags</th>\n",
       "      <th>NEW_HEADLINE</th>\n",
       "      <th>words_headline</th>\n",
       "      <th>content_hashtags</th>\n",
       "      <th>NEW_CONTENT</th>\n",
       "      <th>words_content</th>\n",
       "    </tr>\n",
       "  </thead>\n",
       "  <tbody>\n",
       "    <tr>\n",
       "      <th>0</th>\n",
       "      <td>9 Best SEO Trends You Must Know in 2019</td>\n",
       "      <td>improved search results to app and web develop...</td>\n",
       "      <td>United States</td>\n",
       "      <td>English</td>\n",
       "      <td>28-02-2019 00:00</td>\n",
       "      <td>[]</td>\n",
       "      <td>best seo trends must know</td>\n",
       "      <td>[best seo trends must know]</td>\n",
       "      <td>[]</td>\n",
       "      <td>improved search results app web developers hen...</td>\n",
       "      <td>[improved search results app web developers he...</td>\n",
       "    </tr>\n",
       "    <tr>\n",
       "      <th>1</th>\n",
       "      <td>TWEET FROM: patrykwodzinski</td>\n",
       "      <td>Jeszcze raz o sk?adanych telefonach, ale ju¬...</td>\n",
       "      <td>United States</td>\n",
       "      <td>Polish</td>\n",
       "      <td>06-03-2019 00:00</td>\n",
       "      <td>[]</td>\n",
       "      <td>tweet patrykwodzinski</td>\n",
       "      <td>[tweet patrykwodzinski]</td>\n",
       "      <td>[iMagazine, ilustracja, fold, foldablephone]</td>\n",
       "      <td>jeszcze raz sk adanych telefonach ale ju na po...</td>\n",
       "      <td>[jeszcze raz sk adanych telefonach ale ju na p...</td>\n",
       "    </tr>\n",
       "    <tr>\n",
       "      <th>2</th>\n",
       "      <td>TWEET FROM: SanzitChaudhary</td>\n",
       "      <td>#foldablesmartphone https://t.co/5hp617wMPw</td>\n",
       "      <td>Nepal</td>\n",
       "      <td>English</td>\n",
       "      <td>13-03-2019 00:00</td>\n",
       "      <td>[]</td>\n",
       "      <td>tweet sanzitchaudhary</td>\n",
       "      <td>[tweet sanzitchaudhary]</td>\n",
       "      <td>[foldablesmartphone]</td>\n",
       "      <td>foldablesmartphone https t co hpwmpw</td>\n",
       "      <td>[foldablesmartphone https t co hpwmpw]</td>\n",
       "    </tr>\n",
       "    <tr>\n",
       "      <th>3</th>\n",
       "      <td>Re: {Announced} [MIBA#54] Will Foldable Smartp...</td>\n",
       "      <td>yes definitely it's will...</td>\n",
       "      <td>Singapore</td>\n",
       "      <td>English</td>\n",
       "      <td>27-02-2019 00:00</td>\n",
       "      <td>[54]</td>\n",
       "      <td>announced miba foldable smartphones go mainstream</td>\n",
       "      <td>[announced miba foldable smartphones go mainst...</td>\n",
       "      <td>[]</td>\n",
       "      <td>definitely will</td>\n",
       "      <td>[definitely will]</td>\n",
       "    </tr>\n",
       "    <tr>\n",
       "      <th>4</th>\n",
       "      <td>Re: {Announced} [MIBA#54] Will Foldable Smartp...</td>\n",
       "      <td>not until they make them very slim, no body li...</td>\n",
       "      <td>Singapore</td>\n",
       "      <td>English</td>\n",
       "      <td>27-02-2019 00:00</td>\n",
       "      <td>[54]</td>\n",
       "      <td>announced miba foldable smartphones go mainstream</td>\n",
       "      <td>[announced miba foldable smartphones go mainst...</td>\n",
       "      <td>[]</td>\n",
       "      <td>make slim body likes fat phone pocket</td>\n",
       "      <td>[make slim body likes fat phone pocket]</td>\n",
       "    </tr>\n",
       "  </tbody>\n",
       "</table>\n",
       "</div>"
      ],
      "text/plain": [
       "                                            HEADLINE  \\\n",
       "0            9 Best SEO Trends You Must Know in 2019   \n",
       "1                        TWEET FROM: patrykwodzinski   \n",
       "2                        TWEET FROM: SanzitChaudhary   \n",
       "3  Re: {Announced} [MIBA#54] Will Foldable Smartp...   \n",
       "4  Re: {Announced} [MIBA#54] Will Foldable Smartp...   \n",
       "\n",
       "                                             CONTENT         REGION LANGUAGE  \\\n",
       "0  improved search results to app and web develop...  United States  English   \n",
       "1  Jeszcze raz o sk?adanych telefonach, ale ju¬...  United States   Polish   \n",
       "2        #foldablesmartphone https://t.co/5hp617wMPw          Nepal  English   \n",
       "3                        yes definitely it's will...      Singapore  English   \n",
       "4  not until they make them very slim, no body li...      Singapore  English   \n",
       "\n",
       "       PUBLISH_DATE Hashtags  \\\n",
       "0  28-02-2019 00:00       []   \n",
       "1  06-03-2019 00:00       []   \n",
       "2  13-03-2019 00:00       []   \n",
       "3  27-02-2019 00:00     [54]   \n",
       "4  27-02-2019 00:00     [54]   \n",
       "\n",
       "                                        NEW_HEADLINE  \\\n",
       "0                          best seo trends must know   \n",
       "1                              tweet patrykwodzinski   \n",
       "2                              tweet sanzitchaudhary   \n",
       "3  announced miba foldable smartphones go mainstream   \n",
       "4  announced miba foldable smartphones go mainstream   \n",
       "\n",
       "                                      words_headline  \\\n",
       "0                        [best seo trends must know]   \n",
       "1                            [tweet patrykwodzinski]   \n",
       "2                            [tweet sanzitchaudhary]   \n",
       "3  [announced miba foldable smartphones go mainst...   \n",
       "4  [announced miba foldable smartphones go mainst...   \n",
       "\n",
       "                               content_hashtags  \\\n",
       "0                                            []   \n",
       "1  [iMagazine, ilustracja, fold, foldablephone]   \n",
       "2                          [foldablesmartphone]   \n",
       "3                                            []   \n",
       "4                                            []   \n",
       "\n",
       "                                         NEW_CONTENT  \\\n",
       "0  improved search results app web developers hen...   \n",
       "1  jeszcze raz sk adanych telefonach ale ju na po...   \n",
       "2               foldablesmartphone https t co hpwmpw   \n",
       "3                                    definitely will   \n",
       "4              make slim body likes fat phone pocket   \n",
       "\n",
       "                                       words_content  \n",
       "0  [improved search results app web developers he...  \n",
       "1  [jeszcze raz sk adanych telefonach ale ju na p...  \n",
       "2             [foldablesmartphone https t co hpwmpw]  \n",
       "3                                  [definitely will]  \n",
       "4            [make slim body likes fat phone pocket]  "
      ]
     },
     "metadata": {},
     "execution_count": 19
    }
   ],
   "metadata": {}
  },
  {
   "cell_type": "code",
   "execution_count": 20,
   "source": [
    "#Function which is used to check weather the headline/Content had a positive ,negative or neutral feedback.\n",
    "def analysis():\n",
    "    positive=[]\n",
    "    negative=[]\n",
    "    neutral=[]\n",
    "    for x in list(df['NEW_CONTENT']):\n",
    "        sentimentAnalysis = TextBlob(x)\n",
    "        polarity=sentimentAnalysis.sentiment.polarity\n",
    "        if polarity > 0.5:\n",
    "            positive.append(polarity)\n",
    "        elif polarity == 0.5:\n",
    "            neutral.append(polarity)\n",
    "        elif polarity < 0.5:\n",
    "            negative.append(polarity)\n",
    "    print(\"Positive\")\n",
    "    print(len(positive))\n",
    "    print(\"Negative\")\n",
    "    print(len(negative))\n",
    "    print(\"Neutral\")\n",
    "    print(len(neutral))\n",
    "\n",
    "    \n",
    "analysis()"
   ],
   "outputs": [
    {
     "output_type": "stream",
     "name": "stdout",
     "text": [
      "Positive\n",
      "4274\n",
      "Negative\n",
      "399235\n",
      "Nutral\n",
      "4577\n"
     ]
    }
   ],
   "metadata": {
    "scrolled": true
   }
  },
  {
   "cell_type": "code",
   "execution_count": 37,
   "source": [
    "#this function will return the feedback about the word entered. it can be a specific feature or Company name. \n",
    "def analysis(checkWord, columnName):\n",
    "    positive=[]\n",
    "    negative=[]\n",
    "    nutral=[]\n",
    "    for x in list(df[columnName]):\n",
    "        if checkWord.lower() in x.lower():\n",
    "            sentimentAnalysis = TextBlob(x)\n",
    "            polarity=sentimentAnalysis.sentiment.polarity\n",
    "            if polarity > 0:\n",
    "                positive.append(polarity)\n",
    "            elif polarity == 0:\n",
    "                nutral.append(polarity)\n",
    "            elif polarity < 0:\n",
    "                negative.append(polarity)\n",
    "    return (checkWord, len(positive))"
   ],
   "outputs": [],
   "metadata": {}
  },
  {
   "cell_type": "code",
   "execution_count": 38,
   "source": [
    "#List of companies who are in market of foldable phones.\n",
    "Company = ['Samsung','Xiaomi','Apple','Motorola','Lenovo','Huawei','Honer','Nokia','TCL','LG','ZTE','Energizer','Oppo','Nubia']"
   ],
   "outputs": [],
   "metadata": {}
  },
  {
   "cell_type": "code",
   "execution_count": 39,
   "source": [
    "#List of key driven conversation features of the foldable phones.\n",
    "features = ['screen size','multi tasking','hinge','run time','os','battery life','battery size','thickness','dimmension']"
   ],
   "outputs": [],
   "metadata": {}
  },
  {
   "cell_type": "code",
   "execution_count": 40,
   "source": [
    "#first list will contains tupple that we will recive from analysis function, whrere each tupple containers two thing\n",
    "#first company name\n",
    "#second is no/count of positive polarity post\n",
    "analysisCompanyData=[]\n",
    "for cmp in Company:\n",
    "    result = analysis(cmp, 'NEW_CONTENT')\n",
    "    analysisCompanyData.append(result)\n",
    "\n",
    "#second one do also same but for features    \n",
    "analysisFeaturesData=[]\n",
    "for feature in features:\n",
    "    result = analysis(feature, 'NEW_CONTENT')\n",
    "    analysisFeaturesData.append(result)"
   ],
   "outputs": [],
   "metadata": {}
  },
  {
   "cell_type": "code",
   "execution_count": 28,
   "source": [
    "#For finding the Top 5 Company and Key driver features of the foldable phones\n",
    "#This function is used for company to arrange in Decending positive post feedback order\n",
    "#(#zero indicate Company name or 1 indicate positive polarity post count)\n",
    "\n",
    "def dataSort(arr):\n",
    "    n = len(arr)\n",
    "    for i in range(n-1):\n",
    "        for j in range(0, n-i-1):\n",
    "            if arr[j][1] < arr[j + 1][1] :\n",
    "                arr[j], arr[j + 1] = arr[j + 1], arr[j]\n",
    "dataSort(analysisCompanyData)\n",
    "dataSort(analysisFeaturesData)\n",
    "topFiveVendors = analysisCompanyData[:5:1]\n",
    "print(\"top 5 vendors-\")\n",
    "print(topFiveVendors)\n",
    "print(\"========================\")\n",
    "print(\"Treanding Features\")\n",
    "print(analysisFeaturesData)"
   ],
   "outputs": [
    {
     "output_type": "stream",
     "name": "stdout",
     "text": [
      "top 5 vendors-\n",
      "[('Samsung', 55077), ('Huawei', 17609), ('Apple', 8202), ('Xiaomi', 4621), ('LG', 4303)]\n",
      "========================\n",
      "Treanding Features\n",
      "[('os', 20150), ('multi tasking', 1332), ('hinge', 935), ('screen size', 233), ('battery life', 198), ('thickness', 159), ('battery size', 21), ('run time', 1), ('dimmension', 0)]\n"
     ]
    }
   ],
   "metadata": {}
  },
  {
   "cell_type": "code",
   "execution_count": 41,
   "source": [
    "topVendorName = [val[0] for val in topFiveVendors]"
   ],
   "outputs": [],
   "metadata": {}
  },
  {
   "cell_type": "code",
   "execution_count": 42,
   "source": [
    "#this function will return the positive and feedback about the word entered and the key conversation driven feature\n",
    "# of a specific Company. \n",
    "def companyConversationAnalysis(checkCompany, checkFeature, columnName):\n",
    "    positive=[]\n",
    "    negative=[]\n",
    "    nutral=[]\n",
    "\n",
    "    for x in list(df[columnName]):\n",
    "        if checkCompany.lower() in x.lower():\n",
    "            if checkFeature.lower() in x.lower():\n",
    "                sentimentAnalysis = TextBlob(x)\n",
    "                polarity=sentimentAnalysis.sentiment.polarity\n",
    "                if polarity > 0:\n",
    "                    positive.append(polarity)\n",
    "                elif polarity == 0:\n",
    "                    nutral.append(polarity)\n",
    "                elif polarity < 0:\n",
    "                    negative.append(polarity)\n",
    "\n",
    "\n",
    "    return (checkCompany,checkFeature, len(positive))\n",
    "\n",
    "    \n"
   ],
   "outputs": [],
   "metadata": {}
  },
  {
   "cell_type": "code",
   "execution_count": 43,
   "source": [
    "\n",
    "analysisCompanyConversationData=[]\n",
    "for cmp in topVendorName:\n",
    "    data=[]\n",
    "    for ftr in features:\n",
    "            result = companyConversationAnalysis(cmp,ftr, 'NEW_CONTENT')\n",
    "            data.append(result)\n",
    "    analysisCompanyConversationData.append(data)"
   ],
   "outputs": [],
   "metadata": {}
  },
  {
   "cell_type": "code",
   "execution_count": 32,
   "source": [
    "#Now find the key driver features of the company by Top 5 vendors\n",
    "for ccd in analysisCompanyConversationData:\n",
    "        n = len(ccd)\n",
    "        for i in range(n-1):\n",
    "            for j in range(0, n-i-1):\n",
    "                if ccd[j][2] < ccd[j + 1][2] :\n",
    "                    ccd[j], ccd[j + 1] = ccd[j + 1], ccd[j]\n",
    "        print(\"Company name\", end=\": \")\n",
    "        print(ccd[0][0])\n",
    "        print(\"Key Conversation Driver Feature\", end=\": \")\n",
    "        print(ccd[0][1])\n",
    "        print(\"===================\")"
   ],
   "outputs": [
    {
     "output_type": "stream",
     "name": "stdout",
     "text": [
      "Company name: Samsung\n",
      "Key Conversation Driver Feature: os\n",
      "===================\n",
      "Company name: Huawei\n",
      "Key Conversation Driver Feature: os\n",
      "===================\n",
      "Company name: Apple\n",
      "Key Conversation Driver Feature: os\n",
      "===================\n",
      "Company name: Xiaomi\n",
      "Key Conversation Driver Feature: os\n",
      "===================\n",
      "Company name: LG\n",
      "Key Conversation Driver Feature: os\n",
      "===================\n"
     ]
    }
   ],
   "metadata": {}
  },
  {
   "cell_type": "code",
   "execution_count": 33,
   "source": [
    "#Visualizations of the top 5 Vendor company in foldable phone market.\n",
    "labels = topVendorName\n",
    "sizes = [val[1] for val in topFiveVendors]\n",
    "colors = ['lightgreen', 'yellowgreen', 'lightcoral', 'lightskyblue', 'lightgrey']\n",
    "\n",
    "\n",
    "# Plot\n",
    "plt.pie(sizes, labels=labels, colors=colors,\n",
    "autopct='%1.1f%%', shadow=True, startangle=90)\n",
    "\n",
    "plt.axis('equal')\n",
    "plt.show()"
   ],
   "outputs": [
    {
     "output_type": "display_data",
     "data": {
      "image/png": "[encoded data removed]",
      "text/plain": [
       "<Figure size 432x288 with 1 Axes>"
      ]
     },
     "metadata": {}
    }
   ],
   "metadata": {}
  },
  {
   "cell_type": "code",
   "execution_count": 33,
   "source": [
    "#Visualization of Key driven features of the foldable phones\n",
    "labels =  [val[0] for val in analysisFeaturesData]\n",
    "sizes = [val[1] for val in analysisFeaturesData]\n",
    "\n",
    "colors = ['lightgreen', 'yellowgreen', 'lightcoral', 'lightskyblue', 'lightgrey']\n",
    "\n",
    "\n",
    "# Plot\n",
    "plt.pie(sizes, labels=labels, \n",
    "autopct='%1.1f%%', startangle=90, )\n",
    "\n",
    "plt.axis('equal')\n",
    "plt.show()"
   ],
   "outputs": [
    {
     "output_type": "display_data",
     "data": {
      "image/png": "[encoded data removed]",
      "text/plain": [
       "<Figure size 432x288 with 1 Axes>"
      ]
     },
     "metadata": {}
    },
    {
     "output_type": "stream",
     "name": "stdout",
     "text": [
      "[20150, 1332, 935, 233, 198, 159, 21, 1, 0]\n"
     ]
    }
   ],
   "metadata": {}
  }
 ],
 "metadata": {
  "kernelspec": {
   "display_name": "Python 3",
   "language": "python",
   "name": "python3"
  },
  "language_info": {
   "codemirror_mode": {
    "name": "ipython",
    "version": 3
   },
   "file_extension": ".py",
   "mimetype": "text/x-python",
   "name": "python",
   "nbconvert_exporter": "python",
   "pygments_lexer": "ipython3",
   "version": "3.9.4"
  }
 },
 "nbformat": 4,
 "nbformat_minor": 5
}